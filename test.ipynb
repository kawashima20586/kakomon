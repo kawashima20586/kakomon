{
 "cells": [
  {
   "cell_type": "code",
   "execution_count": 2,
   "id": "aeff83fd",
   "metadata": {},
   "outputs": [
    {
     "name": "stdout",
     "output_type": "stream",
     "text": [
      "Requirement already satisfied: google in /Users/kawashimadaiki/opt/anaconda3/lib/python3.8/site-packages (3.0.0)\n",
      "Requirement already satisfied: beautifulsoup4 in /Users/kawashimadaiki/opt/anaconda3/lib/python3.8/site-packages (from google) (4.11.1)\n",
      "Requirement already satisfied: soupsieve>1.2 in /Users/kawashimadaiki/opt/anaconda3/lib/python3.8/site-packages (from beautifulsoup4->google) (2.3.2.post1)\n"
     ]
    }
   ],
   "source": [
    "\n",
    "!pip3 install google\n",
    "\n"
   ]
  },
  {
   "cell_type": "code",
   "execution_count": 4,
   "id": "3b9a79c0",
   "metadata": {},
   "outputs": [],
   "source": [
    "import gspread"
   ]
  },
  {
   "cell_type": "code",
   "execution_count": null,
   "id": "1265a97f",
   "metadata": {},
   "outputs": [],
   "source": [
    "kawashima-1218@kawashda-test.iam.gserviceaccount.com"
   ]
  },
  {
   "cell_type": "code",
   "execution_count": 6,
   "id": "299ca696",
   "metadata": {},
   "outputs": [],
   "source": [
    "\n",
    "\n",
    "from google.oauth2.service_account import Credentials\n",
    "\n",
    "scopes = [\n",
    "    'https://www.googleapis.com/auth/spreadsheets',\n",
    "    'https://www.googleapis.com/auth/drive'\n",
    "]\n",
    "\n",
    "credentials = Credentials.from_service_account_file(\n",
    "    'API.json',\n",
    "    scopes=scopes\n",
    ")\n",
    "\n",
    "gc = gspread.authorize(credentials)"
   ]
  },
  {
   "cell_type": "code",
   "execution_count": 7,
   "id": "f2b289b0",
   "metadata": {},
   "outputs": [
    {
     "data": {
      "text/plain": [
       "<gspread.client.Client at 0x7fa32d97a730>"
      ]
     },
     "execution_count": 7,
     "metadata": {},
     "output_type": "execute_result"
    }
   ],
   "source": [
    "gc"
   ]
  },
  {
   "cell_type": "code",
   "execution_count": 10,
   "id": "75f879dc",
   "metadata": {},
   "outputs": [],
   "source": [
    "SP_SHEET_KEY = '11cJmn4lggpvbI3G4XfLLru8YJVjWINTIFAeyehjfYo0'"
   ]
  },
  {
   "cell_type": "code",
   "execution_count": 13,
   "id": "05aab0df",
   "metadata": {},
   "outputs": [],
   "source": [
    "sh = gc.open_by_key(SP_SHEET_KEY)"
   ]
  },
  {
   "cell_type": "code",
   "execution_count": 14,
   "id": "512e4101",
   "metadata": {},
   "outputs": [
    {
     "data": {
      "text/plain": [
       "<Spreadsheet 'test' id:11cJmn4lggpvbI3G4XfLLru8YJVjWINTIFAeyehjfYo0>"
      ]
     },
     "execution_count": 14,
     "metadata": {},
     "output_type": "execute_result"
    }
   ],
   "source": [
    "sh"
   ]
  },
  {
   "cell_type": "code",
   "execution_count": 16,
   "id": "ee170e9a",
   "metadata": {},
   "outputs": [],
   "source": [
    "SP_SHEET ='2014'\n",
    "worksheet = sh.worksheet(SP_SHEET)"
   ]
  },
  {
   "cell_type": "code",
   "execution_count": 30,
   "id": "661b8993",
   "metadata": {},
   "outputs": [],
   "source": [
    "data = worksheet.get_all_values()"
   ]
  },
  {
   "cell_type": "code",
   "execution_count": 19,
   "id": "81797d22",
   "metadata": {},
   "outputs": [],
   "source": [
    "import pandas as pd"
   ]
  },
  {
   "cell_type": "code",
   "execution_count": 33,
   "id": "79202012",
   "metadata": {},
   "outputs": [
    {
     "data": {
      "text/html": [
       "<div>\n",
       "<style scoped>\n",
       "    .dataframe tbody tr th:only-of-type {\n",
       "        vertical-align: middle;\n",
       "    }\n",
       "\n",
       "    .dataframe tbody tr th {\n",
       "        vertical-align: top;\n",
       "    }\n",
       "\n",
       "    .dataframe thead th {\n",
       "        text-align: right;\n",
       "    }\n",
       "</style>\n",
       "<table border=\"1\" class=\"dataframe\">\n",
       "  <thead>\n",
       "    <tr style=\"text-align: right;\">\n",
       "      <th></th>\n",
       "      <th>No</th>\n",
       "      <th>問</th>\n",
       "      <th>1</th>\n",
       "      <th>2</th>\n",
       "      <th>3</th>\n",
       "      <th>4</th>\n",
       "      <th>回答</th>\n",
       "      <th>解説</th>\n",
       "    </tr>\n",
       "  </thead>\n",
       "  <tbody>\n",
       "    <tr>\n",
       "      <th>0</th>\n",
       "      <td>No</td>\n",
       "      <td>問</td>\n",
       "      <td>1</td>\n",
       "      <td>2</td>\n",
       "      <td>3</td>\n",
       "      <td>4</td>\n",
       "      <td>回答</td>\n",
       "      <td>解説</td>\n",
       "    </tr>\n",
       "    <tr>\n",
       "      <th>1</th>\n",
       "      <td>1</td>\n",
       "      <td>マシニング</td>\n",
       "      <td>a</td>\n",
       "      <td>b</td>\n",
       "      <td>c</td>\n",
       "      <td>d</td>\n",
       "      <td>asd</td>\n",
       "      <td>zxc</td>\n",
       "    </tr>\n",
       "    <tr>\n",
       "      <th>2</th>\n",
       "      <td>2</td>\n",
       "      <td>加工機</td>\n",
       "      <td>e</td>\n",
       "      <td>f</td>\n",
       "      <td>g</td>\n",
       "      <td>h</td>\n",
       "      <td>qwe</td>\n",
       "      <td>ghj</td>\n",
       "    </tr>\n",
       "  </tbody>\n",
       "</table>\n",
       "</div>"
      ],
      "text/plain": [
       "   No      問  1  2  3  4   回答   解説\n",
       "0  No      問  1  2  3  4   回答   解説\n",
       "1   1  マシニング  a  b  c  d  asd  zxc\n",
       "2   2    加工機  e  f  g  h  qwe  ghj"
      ]
     },
     "execution_count": 33,
     "metadata": {},
     "output_type": "execute_result"
    }
   ],
   "source": [
    "pd.DataFrame(data[0:],columns = data[0])"
   ]
  },
  {
   "cell_type": "code",
   "execution_count": 22,
   "id": "7254d97d",
   "metadata": {},
   "outputs": [
    {
     "data": {
      "text/plain": [
       "[['問', '1', '2', '3', '4', '回答', '解説'],\n",
       " ['マシニング', 'a', 'b', 'c', 'd', 'asd', 'zxc']]"
      ]
     },
     "execution_count": 22,
     "metadata": {},
     "output_type": "execute_result"
    }
   ],
   "source": [
    "data"
   ]
  },
  {
   "cell_type": "code",
   "execution_count": 27,
   "id": "9c06d927",
   "metadata": {},
   "outputs": [
    {
     "name": "stdout",
     "output_type": "stream",
     "text": [
      "a\n"
     ]
    }
   ],
   "source": [
    "print(data[1][1])"
   ]
  },
  {
   "cell_type": "code",
   "execution_count": 38,
   "id": "920704d3",
   "metadata": {},
   "outputs": [],
   "source": [
    "SP_SHEET ='2014'"
   ]
  },
  {
   "cell_type": "code",
   "execution_count": 35,
   "id": "b2706b8a",
   "metadata": {},
   "outputs": [],
   "source": [
    "\n",
    "\n",
    "nendo = 2013\n"
   ]
  },
  {
   "cell_type": "code",
   "execution_count": 36,
   "id": "35a2300c",
   "metadata": {},
   "outputs": [],
   "source": [
    "SP_SHEET =nendo"
   ]
  },
  {
   "cell_type": "code",
   "execution_count": 39,
   "id": "bf25e643",
   "metadata": {},
   "outputs": [
    {
     "data": {
      "text/plain": [
       "'2014'"
      ]
     },
     "execution_count": 39,
     "metadata": {},
     "output_type": "execute_result"
    }
   ],
   "source": [
    "SP_SHEET"
   ]
  },
  {
   "cell_type": "code",
   "execution_count": 40,
   "id": "b07a3bfa",
   "metadata": {},
   "outputs": [],
   "source": [
    "aaa = 2014\n",
    "SP_SHEET = aaa"
   ]
  },
  {
   "cell_type": "code",
   "execution_count": 41,
   "id": "fe2265ee",
   "metadata": {},
   "outputs": [
    {
     "data": {
      "text/plain": [
       "2014"
      ]
     },
     "execution_count": 41,
     "metadata": {},
     "output_type": "execute_result"
    }
   ],
   "source": [
    "SP_SHEET"
   ]
  },
  {
   "cell_type": "code",
   "execution_count": null,
   "id": "3de317bf",
   "metadata": {},
   "outputs": [],
   "source": []
  },
  {
   "cell_type": "code",
   "execution_count": 42,
   "id": "9554b483",
   "metadata": {},
   "outputs": [
    {
     "data": {
      "text/plain": [
       "'aaa'"
      ]
     },
     "execution_count": 42,
     "metadata": {},
     "output_type": "execute_result"
    }
   ],
   "source": [
    "aaa = 2014\n",
    "SP_SHEET = 'aaa'\n",
    "SP_SHEET"
   ]
  },
  {
   "cell_type": "code",
   "execution_count": 43,
   "id": "b0c0dd6c",
   "metadata": {},
   "outputs": [],
   "source": [
    "import random\n"
   ]
  },
  {
   "cell_type": "code",
   "execution_count": 47,
   "id": "fc7f02f2",
   "metadata": {},
   "outputs": [
    {
     "data": {
      "text/plain": [
       "2012"
      ]
     },
     "execution_count": 47,
     "metadata": {},
     "output_type": "execute_result"
    }
   ],
   "source": [
    "random.randint(2011,2012)"
   ]
  },
  {
   "cell_type": "code",
   "execution_count": 53,
   "id": "193c2de1",
   "metadata": {},
   "outputs": [],
   "source": [
    "SP_SHEET = random.randint(2014,2021)"
   ]
  },
  {
   "cell_type": "code",
   "execution_count": 54,
   "id": "98797694",
   "metadata": {},
   "outputs": [
    {
     "data": {
      "text/plain": [
       "2020"
      ]
     },
     "execution_count": 54,
     "metadata": {},
     "output_type": "execute_result"
    }
   ],
   "source": [
    "SP_SHEET"
   ]
  },
  {
   "cell_type": "code",
   "execution_count": 55,
   "id": "31bf6845",
   "metadata": {},
   "outputs": [],
   "source": [
    "nendo = random.randint(2014,2021)"
   ]
  },
  {
   "cell_type": "code",
   "execution_count": 56,
   "id": "a68b4174",
   "metadata": {},
   "outputs": [
    {
     "data": {
      "text/plain": [
       "2016"
      ]
     },
     "execution_count": 56,
     "metadata": {},
     "output_type": "execute_result"
    }
   ],
   "source": [
    "nendo\n"
   ]
  },
  {
   "cell_type": "code",
   "execution_count": null,
   "id": "4b56fd0a",
   "metadata": {},
   "outputs": [],
   "source": []
  }
 ],
 "metadata": {
  "kernelspec": {
   "display_name": "Python 3 (ipykernel)",
   "language": "python",
   "name": "python3"
  },
  "language_info": {
   "codemirror_mode": {
    "name": "ipython",
    "version": 3
   },
   "file_extension": ".py",
   "mimetype": "text/x-python",
   "name": "python",
   "nbconvert_exporter": "python",
   "pygments_lexer": "ipython3",
   "version": "3.8.15"
  }
 },
 "nbformat": 4,
 "nbformat_minor": 5
}
